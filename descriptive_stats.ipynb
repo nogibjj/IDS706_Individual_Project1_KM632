{
 "cells": [
  {
   "cell_type": "markdown",
   "metadata": {},
   "source": [
    "Imported pandas library and necessary methods from a shared module"
   ]
  },
  {
   "cell_type": "code",
   "execution_count": 22,
   "metadata": {},
   "outputs": [
    {
     "ename": "ImportError",
     "evalue": "cannot import name 'create_graph' from 'lib' (/workspaces/IDS706_Individual_Project1_KM632/lib.py)",
     "output_type": "error",
     "traceback": [
      "\u001b[0;31m---------------------------------------------------------------------------\u001b[0m",
      "\u001b[0;31mImportError\u001b[0m                               Traceback (most recent call last)",
      "\u001b[1;32m/workspaces/IDS706_Individual_Project1_KM632/descriptive_stats.ipynb Cell 2\u001b[0m line \u001b[0;36m2\n\u001b[1;32m      <a href='vscode-notebook-cell://codespaces%2Blaughing-doodle-vqvrgq9rgvg3wrr7/workspaces/IDS706_Individual_Project1_KM632/descriptive_stats.ipynb#W0sdnNjb2RlLXJlbW90ZQ%3D%3D?line=0'>1</a>\u001b[0m \u001b[39mimport\u001b[39;00m \u001b[39mpandas\u001b[39;00m \u001b[39mas\u001b[39;00m \u001b[39mpd\u001b[39;00m\n\u001b[0;32m----> <a href='vscode-notebook-cell://codespaces%2Blaughing-doodle-vqvrgq9rgvg3wrr7/workspaces/IDS706_Individual_Project1_KM632/descriptive_stats.ipynb#W0sdnNjb2RlLXJlbW90ZQ%3D%3D?line=1'>2</a>\u001b[0m \u001b[39mfrom\u001b[39;00m \u001b[39mlib\u001b[39;00m \u001b[39mimport\u001b[39;00m find_mean, find_median, find_std, create_graph\n",
      "\u001b[0;31mImportError\u001b[0m: cannot import name 'create_graph' from 'lib' (/workspaces/IDS706_Individual_Project1_KM632/lib.py)"
     ]
    }
   ],
   "source": [
    "import pandas as pd\n",
    "from lib import find_mean, find_median, find_std, create_graph\n"
   ]
  },
  {
   "cell_type": "markdown",
   "metadata": {},
   "source": [
    "Since early 2000s Mongolain government started providing tuition assistance programs to high school students who are accepted to the top 100 universities in the world. The government paid for all educational expenses including tuition and boarding. This data set contains the list of students who benefitted from the program and how much monetary assistance they received. \n",
    "\n",
    "First 5 columns are shown to give an overview of what the dataset looks like. \n"
   ]
  },
  {
   "cell_type": "code",
   "execution_count": null,
   "metadata": {},
   "outputs": [
    {
     "name": "stdout",
     "output_type": "stream",
     "text": [
      "         First and Last Name School Country                            School Name      Intended Major  Study Duration(in years)  Loan Amount(in USD)\n",
      "0          Батцэнгэл  Цацрал            АНУ                             Мичиган ИС             Инженер                       4.0            289225.50\n",
      "1  Төмөрбаатар  Эрдэнэжаргал            АНУ  Массачусетс ИС-Жоржийн технологийн ИС  Химийн инженерчлэл                       5.0            259284.00\n",
      "2       Буянхүү  Лувсанбямба            АНУ                  Калифорниа ИС Беркели     Компьютерийн ШУ                       4.0            252756.00\n",
      "3            Доржпүрэв  Болд            АНУ                  Пенсилван ИС- Жорж ТИ             Инженер                       4.0            245297.00\n",
      "4         Ганбаатар Ундармаа            АНУ                             Мичиган ИС        Цөмийн физик                       4.0            241999.55\n"
     ]
    }
   ],
   "source": [
    "df = pd.read_excel('raw.xlsx')\n",
    "new_column_names = {'Эцэг /эх/-ийн нэр / Өөрийн нэр': 'First and Last Name', 'Суралцаж байгаа улс': 'School Country', 'Сургуулийн нэр': 'School Name', 'Мэргэжил':'Intended Major', 'Суралцах хугацаа': 'Study Duration(in years)', 'Олгосон санхүүжил':'Loan Amount(in USD)'}\n",
    "df.rename(columns=new_column_names, inplace=True)\n",
    "pd.set_option('display.width', 1000)\n",
    "print(df.head(5))"
   ]
  },
  {
   "cell_type": "markdown",
   "metadata": {},
   "source": [
    "Analyze the basic statistics"
   ]
  },
  {
   "cell_type": "code",
   "execution_count": null,
   "metadata": {},
   "outputs": [
    {
     "name": "stdout",
     "output_type": "stream",
     "text": [
      "Mean: $117,340.00\n",
      "Median: $116,481.00\n",
      "Standard deviation: $54,692.00\n"
     ]
    }
   ],
   "source": [
    "mean = find_mean(df)\n",
    "median = find_median(df)\n",
    "std = find_std(df)\n",
    "print(\"Mean:\", mean)\n",
    "print(\"Median:\", median)\n",
    "print(\"Standard deviation:\", std)"
   ]
  },
  {
   "cell_type": "code",
   "execution_count": 23,
   "metadata": {},
   "outputs": [
    {
     "ename": "NameError",
     "evalue": "name 'create_graph' is not defined",
     "output_type": "error",
     "traceback": [
      "\u001b[0;31m---------------------------------------------------------------------------\u001b[0m",
      "\u001b[0;31mNameError\u001b[0m                                 Traceback (most recent call last)",
      "\u001b[1;32m/workspaces/IDS706_Individual_Project1_KM632/descriptive_stats.ipynb Cell 7\u001b[0m line \u001b[0;36m1\n\u001b[0;32m----> <a href='vscode-notebook-cell://codespaces%2Blaughing-doodle-vqvrgq9rgvg3wrr7/workspaces/IDS706_Individual_Project1_KM632/descriptive_stats.ipynb#W6sdnNjb2RlLXJlbW90ZQ%3D%3D?line=0'>1</a>\u001b[0m create_graph(df)\n",
      "\u001b[0;31mNameError\u001b[0m: name 'create_graph' is not defined"
     ]
    }
   ],
   "source": [
    "create_graph(df)"
   ]
  }
 ],
 "metadata": {
  "kernelspec": {
   "display_name": "Python 3",
   "language": "python",
   "name": "python3"
  },
  "language_info": {
   "codemirror_mode": {
    "name": "ipython",
    "version": 3
   },
   "file_extension": ".py",
   "mimetype": "text/x-python",
   "name": "python",
   "nbconvert_exporter": "python",
   "pygments_lexer": "ipython3",
   "version": "3.10.12"
  },
  "orig_nbformat": 4
 },
 "nbformat": 4,
 "nbformat_minor": 2
}
